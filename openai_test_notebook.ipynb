{
 "cells": [
  {
   "cell_type": "code",
   "execution_count": 14,
   "metadata": {},
   "outputs": [],
   "source": [
    "import openai\n",
    "\n",
    "openai.api_key = open(\"venv/openai_api_key.txt\", \"r\").read().strip(\"\\n\")"
   ]
  },
  {
   "cell_type": "code",
   "execution_count": 15,
   "metadata": {},
   "outputs": [
    {
     "name": "stdout",
     "output_type": "stream",
     "text": [
      "{\n",
      "  \"choices\": [\n",
      "    {\n",
      "      \"finish_reason\": \"stop\",\n",
      "      \"index\": 0,\n",
      "      \"message\": {\n",
      "        \"content\": \"The chat data from using OpenAI API may be used in training the GPT model if the user has provided consent for their data to be used for model improvement purposes. OpenAI has a rigorous data privacy and security policy that ensures the protection of users' data while training AI models. Apart from user-generated data, the GPT model is also trained on large datasets of text data from the internet, including books, articles, and other sources, to facilitate its ability to generate human-like responses.\",\n",
      "        \"role\": \"assistant\"\n",
      "      }\n",
      "    }\n",
      "  ],\n",
      "  \"created\": 1681026843,\n",
      "  \"id\": \"chatcmpl-73KA7GI4Iuuhv0hAsi5fxjXTQrnDe\",\n",
      "  \"model\": \"gpt-3.5-turbo-0301\",\n",
      "  \"object\": \"chat.completion\",\n",
      "  \"usage\": {\n",
      "    \"completion_tokens\": 99,\n",
      "    \"prompt_tokens\": 24,\n",
      "    \"total_tokens\": 123\n",
      "  }\n",
      "}\n"
     ]
    }
   ],
   "source": [
    "completion = openai.ChatCompletion.create(\n",
    "  model=\"gpt-3.5-turbo\",\n",
    "  messages=[{\"role\": \"user\", \"content\": \"Is chat data from using openai API used in training the GPT model?\"}]\n",
    ")\n",
    "print(completion)"
   ]
  },
  {
   "cell_type": "code",
   "execution_count": 16,
   "metadata": {},
   "outputs": [
    {
     "name": "stdout",
     "output_type": "stream",
     "text": [
      "The chat data from using OpenAI API may be used in training the GPT model if the user has provided consent for their data to be used for model improvement purposes. OpenAI has a rigorous data privacy and security policy that ensures the protection of users' data while training AI models. Apart from user-generated data, the GPT model is also trained on large datasets of text data from the internet, including books, articles, and other sources, to facilitate its ability to generate human-like responses.\n"
     ]
    }
   ],
   "source": [
    "print(completion.choices[0].message.content)"
   ]
  },
  {
   "cell_type": "code",
   "execution_count": 18,
   "metadata": {},
   "outputs": [],
   "source": [
    "def makeChatQuery(query):\n",
    "    completion = openai.ChatCompletion.create(\n",
    "        model=\"gpt-3.5-turbo\",\n",
    "        messages=[{\"role\": \"user\", \"content\": query}]\n",
    "    )\n",
    "    return completion.choices[0].message.content"
   ]
  },
  {
   "cell_type": "code",
   "execution_count": 3,
   "metadata": {},
   "outputs": [
    {
     "name": "stdout",
     "output_type": "stream",
     "text": [
      "Recieved message: What's your name?\n",
      "Completed querying My name is Jarvis. I am a virtual assistant designed to help you with various tasks and provide information. How may I assist you?\n",
      "My name is Jarvis. I am a virtual assistant designed to help you with various tasks and provide information. How may I assist you?\n"
     ]
    }
   ],
   "source": [
    "from chat.Conversation import Conversation\n",
    "\n",
    "conversation = Conversation(\"You are Jarvis. My personal assistant\")\n",
    "print(conversation.run_query(\"What's your name?\"))"
   ]
  },
  {
   "cell_type": "code",
   "execution_count": null,
   "metadata": {},
   "outputs": [],
   "source": []
  }
 ],
 "metadata": {
  "kernelspec": {
   "display_name": "venv",
   "language": "python",
   "name": "python3"
  },
  "language_info": {
   "codemirror_mode": {
    "name": "ipython",
    "version": 3
   },
   "file_extension": ".py",
   "mimetype": "text/x-python",
   "name": "python",
   "nbconvert_exporter": "python",
   "pygments_lexer": "ipython3",
   "version": "3.11.1"
  },
  "orig_nbformat": 4
 },
 "nbformat": 4,
 "nbformat_minor": 2
}
